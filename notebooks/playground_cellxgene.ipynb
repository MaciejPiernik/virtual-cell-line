{
 "cells": [
  {
   "cell_type": "code",
   "execution_count": 1,
   "metadata": {},
   "outputs": [],
   "source": [
    "import cellxgene_census\n",
    "import torch\n",
    "\n",
    "import cellxgene_census.experimental.ml as census_ml\n",
    "import tiledbsoma as soma\n",
    "import matplotlib.pyplot as plt\n",
    "\n",
    "from IPython.display import clear_output"
   ]
  },
  {
   "cell_type": "code",
   "execution_count": 2,
   "metadata": {},
   "outputs": [
    {
     "name": "stderr",
     "output_type": "stream",
     "text": [
      "The \"stable\" release is currently 2024-07-01. Specify 'census_version=\"2024-07-01\"' in future calls to open_soma() to ensure data consistency.\n"
     ]
    }
   ],
   "source": [
    "census = cellxgene_census.open_soma()"
   ]
  },
  {
   "cell_type": "code",
   "execution_count": null,
   "metadata": {},
   "outputs": [],
   "source": [
    "from biomart import BiomartServer\n",
    "\n",
    "def get_protein_coding_genes(species=\"hsapiens\"):\n",
    "    server = BiomartServer(\"http://www.ensembl.org/biomart\")\n",
    "    dataset = server.datasets[f\"{species}_gene_ensembl\"]\n",
    "    \n",
    "    # Set up the query\n",
    "    response = dataset.search({\n",
    "        'attributes': [\n",
    "            'ensembl_gene_id',\n",
    "            'external_gene_name',\n",
    "            'gene_biotype'\n",
    "        ],\n",
    "        'filters': {\n",
    "            'biotype': 'protein_coding'\n",
    "        }\n",
    "    })\n",
    "    \n",
    "    # Process and return the results\n",
    "    genes = {}\n",
    "    for line in response.iter_lines():\n",
    "        line = line.decode('utf-8')\n",
    "        gene_id, gene_name, biotype = line.split('\\t')\n",
    "        genes[gene_id] = {'name': gene_name, 'biotype': biotype}\n",
    "    \n",
    "    return genes\n",
    "\n",
    "genes = get_protein_coding_genes()\n",
    "\n",
    "protein_coding_genes = list(genes.keys())"
   ]
  },
  {
   "cell_type": "code",
   "execution_count": 30,
   "metadata": {},
   "outputs": [],
   "source": [
    "experiment = census[\"census_data\"][\"homo_sapiens\"]\n",
    "\n",
    "experiment_datapipe = census_ml.ExperimentDataPipe(\n",
    "    experiment,\n",
    "    measurement_name=\"RNA\",\n",
    "    X_name=\"normalized\",\n",
    "    obs_query=soma.AxisQuery(value_filter=\"is_primary_data == True and tissue_general in ['colon']\"),\n",
    "    obs_column_names=[\"cell_type\"],\n",
    "    var_query=soma.AxisQuery(value_filter=f\"feature_id in {protein_coding_genes}\"),\n",
    "    batch_size=128,\n",
    "    shuffle=True,\n",
    "    soma_chunk_size=10_000,\n",
    ")"
   ]
  },
  {
   "cell_type": "code",
   "execution_count": 31,
   "metadata": {},
   "outputs": [],
   "source": [
    "train_datapipe, test_datapipe = experiment_datapipe.random_split(weights={\"train\": 0.8, \"test\": 0.2}, seed=1)\n",
    "\n",
    "train_dataloader = census_ml.experiment_dataloader(train_datapipe)\n",
    "test_dataloader = census_ml.experiment_dataloader(test_datapipe)"
   ]
  },
  {
   "cell_type": "code",
   "execution_count": 32,
   "metadata": {},
   "outputs": [],
   "source": [
    "class LogisticRegression(torch.nn.Module):\n",
    "    def __init__(self, input_dim, output_dim):\n",
    "        super(LogisticRegression, self).__init__()\n",
    "        self.linear = torch.nn.Linear(input_dim, output_dim)\n",
    "\n",
    "    def forward(self, x):\n",
    "        outputs = torch.sigmoid(self.linear(x))\n",
    "        return outputs"
   ]
  },
  {
   "cell_type": "code",
   "execution_count": 33,
   "metadata": {},
   "outputs": [],
   "source": [
    "def train_epoch(model, train_dataloader, loss_fn, optimizer, device):\n",
    "    model.train()\n",
    "    train_loss = 0\n",
    "    train_correct = 0\n",
    "    train_total = 0\n",
    "\n",
    "    for batch in train_dataloader:\n",
    "        optimizer.zero_grad()\n",
    "        X_batch, y_batch = batch\n",
    "\n",
    "        X_batch = X_batch.float().to(device)\n",
    "\n",
    "        # Perform prediction\n",
    "        outputs = model(X_batch)\n",
    "\n",
    "        # Determine the predicted label\n",
    "        probabilities = torch.nn.functional.softmax(outputs, 1)\n",
    "        predictions = torch.argmax(probabilities, axis=1)\n",
    "\n",
    "        # Compute the loss and perform back propagation\n",
    "        y_batch = y_batch.flatten()\n",
    "        y_batch = y_batch.to(device)\n",
    "\n",
    "        train_correct += (predictions == y_batch).sum().item()\n",
    "        train_total += len(predictions)\n",
    "\n",
    "        loss = loss_fn(outputs, y_batch.long())\n",
    "        train_loss += loss.item()\n",
    "        loss.backward()\n",
    "        optimizer.step()\n",
    "\n",
    "    train_loss /= train_total\n",
    "    train_accuracy = train_correct / train_total\n",
    "    return train_loss, train_accuracy\n",
    "\n",
    "\n",
    "def test_epoch(model, test_dataloader, loss_fn, device):\n",
    "    model.eval()\n",
    "    test_loss = 0\n",
    "    test_correct = 0\n",
    "    test_total = 0\n",
    "\n",
    "    with torch.no_grad():\n",
    "        for batch in test_dataloader:\n",
    "            X_batch, y_batch = batch\n",
    "\n",
    "            X_batch = X_batch.float().to(device)\n",
    "\n",
    "            # Perform prediction\n",
    "            outputs = model(X_batch)\n",
    "\n",
    "            # Determine the predicted label\n",
    "            probabilities = torch.nn.functional.softmax(outputs, 1)\n",
    "            predictions = torch.argmax(probabilities, axis=1)\n",
    "\n",
    "            # Compute the loss\n",
    "            y_batch = y_batch.flatten()\n",
    "            y_batch = y_batch.to(device)\n",
    "\n",
    "            test_correct += (predictions == y_batch).sum().item()\n",
    "            test_total += len(predictions)\n",
    "\n",
    "            loss = loss_fn(outputs, y_batch.long())\n",
    "            test_loss += loss.item()\n",
    "\n",
    "    test_loss /= test_total\n",
    "    test_accuracy = test_correct / test_total\n",
    "    return test_loss, test_accuracy"
   ]
  },
  {
   "cell_type": "code",
   "execution_count": 34,
   "metadata": {},
   "outputs": [],
   "source": [
    "def plot_learning_curves(training_losses, validation_losses):\n",
    "    clear_output(wait=True)\n",
    "\n",
    "    plt.plot(training_losses, label='Training loss')\n",
    "    plt.plot(validation_losses, label='Validation loss')\n",
    "\n",
    "    plt.xlabel('Epoch')\n",
    "    plt.ylabel('Loss')\n",
    "    plt.legend()\n",
    "    plt.show()"
   ]
  },
  {
   "cell_type": "code",
   "execution_count": null,
   "metadata": {},
   "outputs": [],
   "source": [
    "device = torch.device(\"cuda\") if torch.cuda.is_available() else torch.device(\"cpu\")\n",
    "\n",
    "# The size of the input dimension is the number of genes\n",
    "input_dim = experiment_datapipe.shape[1]\n",
    "\n",
    "# The size of the output dimension is the number of distinct cell_type values\n",
    "cell_type_encoder = experiment_datapipe.obs_encoders[\"cell_type\"]\n",
    "output_dim = len(cell_type_encoder.classes_)\n",
    "\n",
    "model = LogisticRegression(input_dim, output_dim).to(device)\n",
    "loss_fn = torch.nn.CrossEntropyLoss()\n",
    "optimizer = torch.optim.Adam(model.parameters(), lr=1e-05)\n",
    "\n",
    "training_losses = []\n",
    "test_losses = []\n",
    "for epoch in range(10):\n",
    "    train_loss, train_accuracy = train_epoch(model, train_dataloader, loss_fn, optimizer, device)\n",
    "    test_loss, test_accuracy = test_epoch(model, test_dataloader, loss_fn, device)\n",
    "\n",
    "    training_losses.append(train_loss)\n",
    "    test_losses.append(test_loss)\n",
    "\n",
    "    plot_learning_curves(training_losses, test_losses)\n",
    "    print(f'Epoch {epoch}: Train Loss= {train_loss:.4f}, Test Loss= {test_loss:.4f}, Train Accuracy= {train_accuracy:.4f}, Test Accuracy= {test_accuracy:.4f}') "
   ]
  },
  {
   "cell_type": "code",
   "execution_count": 22,
   "metadata": {},
   "outputs": [],
   "source": [
    "X_batch, y_batch = next(iter(test_dataloader))"
   ]
  },
  {
   "cell_type": "code",
   "execution_count": 34,
   "metadata": {},
   "outputs": [
    {
     "data": {
      "text/plain": [
       "tensor([ 6, 11,  5,  5,  1,  8,  1,  1,  1,  7,  1,  7,  1,  8,  1,  5,  5,  1,\n",
       "         7,  1,  7,  7,  7,  5,  7,  8,  8,  1,  7,  5,  1,  5,  1,  7,  7,  8,\n",
       "         1,  8,  1,  1,  8,  1,  1,  1,  5,  7,  1,  1,  7, 11,  8,  1,  5,  5,\n",
       "        11,  1,  1,  1,  1,  1,  8,  8,  5,  5,  1,  1,  1,  7,  5,  1,  7,  1,\n",
       "         1,  1,  8,  8,  7,  9,  5,  7,  7,  1,  1,  5,  8,  8,  1,  1,  1,  7,\n",
       "         8,  5,  1,  1,  1,  1,  1,  8,  5,  1,  8,  1,  5,  7,  9,  5,  1,  7,\n",
       "         1,  1,  7,  5,  7,  1,  7,  1,  7,  1,  5,  1,  5,  7,  1,  1])"
      ]
     },
     "metadata": {},
     "output_type": "display_data"
    }
   ],
   "source": [
    "model.eval()\n",
    "\n",
    "model.to(device)\n",
    "outputs = model(X_batch.to(device))\n",
    "\n",
    "probabilities = torch.nn.functional.softmax(outputs, 1)\n",
    "predictions = torch.argmax(probabilities, axis=1)\n",
    "\n",
    "display(predictions)"
   ]
  },
  {
   "cell_type": "code",
   "execution_count": 35,
   "metadata": {},
   "outputs": [
    {
     "data": {
      "text/plain": [
       "array(['fibroblast', 'vein endothelial cell', 'epithelial cell',\n",
       "       'epithelial cell', 'basal cell', 'leukocyte', 'basal cell',\n",
       "       'basal cell', 'basal cell', 'keratinocyte', 'basal cell',\n",
       "       'keratinocyte', 'basal cell', 'leukocyte', 'basal cell',\n",
       "       'epithelial cell', 'epithelial cell', 'basal cell', 'keratinocyte',\n",
       "       'basal cell', 'keratinocyte', 'keratinocyte', 'keratinocyte',\n",
       "       'epithelial cell', 'keratinocyte', 'leukocyte', 'leukocyte',\n",
       "       'basal cell', 'keratinocyte', 'epithelial cell', 'basal cell',\n",
       "       'epithelial cell', 'basal cell', 'keratinocyte', 'keratinocyte',\n",
       "       'leukocyte', 'basal cell', 'leukocyte', 'basal cell', 'basal cell',\n",
       "       'leukocyte', 'basal cell', 'basal cell', 'basal cell',\n",
       "       'epithelial cell', 'keratinocyte', 'basal cell', 'basal cell',\n",
       "       'keratinocyte', 'vein endothelial cell', 'leukocyte', 'basal cell',\n",
       "       'epithelial cell', 'epithelial cell', 'vein endothelial cell',\n",
       "       'basal cell', 'basal cell', 'basal cell', 'basal cell',\n",
       "       'basal cell', 'leukocyte', 'leukocyte', 'epithelial cell',\n",
       "       'epithelial cell', 'basal cell', 'basal cell', 'basal cell',\n",
       "       'keratinocyte', 'epithelial cell', 'basal cell', 'keratinocyte',\n",
       "       'basal cell', 'basal cell', 'basal cell', 'leukocyte', 'leukocyte',\n",
       "       'keratinocyte', 'pericyte', 'epithelial cell', 'keratinocyte',\n",
       "       'keratinocyte', 'basal cell', 'basal cell', 'epithelial cell',\n",
       "       'leukocyte', 'leukocyte', 'basal cell', 'basal cell', 'basal cell',\n",
       "       'keratinocyte', 'leukocyte', 'epithelial cell', 'basal cell',\n",
       "       'basal cell', 'basal cell', 'basal cell', 'basal cell',\n",
       "       'leukocyte', 'epithelial cell', 'basal cell', 'leukocyte',\n",
       "       'basal cell', 'epithelial cell', 'keratinocyte', 'pericyte',\n",
       "       'epithelial cell', 'basal cell', 'keratinocyte', 'basal cell',\n",
       "       'basal cell', 'keratinocyte', 'epithelial cell', 'keratinocyte',\n",
       "       'basal cell', 'keratinocyte', 'basal cell', 'keratinocyte',\n",
       "       'basal cell', 'epithelial cell', 'basal cell', 'epithelial cell',\n",
       "       'keratinocyte', 'basal cell', 'basal cell'], dtype=object)"
      ]
     },
     "metadata": {},
     "output_type": "display_data"
    }
   ],
   "source": [
    "cell_type_encoder = experiment_datapipe.obs_encoders[\"cell_type\"]\n",
    "\n",
    "predicted_cell_types = cell_type_encoder.inverse_transform(predictions.cpu())\n",
    "\n",
    "display(predicted_cell_types)"
   ]
  },
  {
   "cell_type": "code",
   "execution_count": 36,
   "metadata": {},
   "outputs": [
    {
     "data": {
      "text/html": [
       "<div>\n",
       "<style scoped>\n",
       "    .dataframe tbody tr th:only-of-type {\n",
       "        vertical-align: middle;\n",
       "    }\n",
       "\n",
       "    .dataframe tbody tr th {\n",
       "        vertical-align: top;\n",
       "    }\n",
       "\n",
       "    .dataframe thead th {\n",
       "        text-align: right;\n",
       "    }\n",
       "</style>\n",
       "<table border=\"1\" class=\"dataframe\">\n",
       "  <thead>\n",
       "    <tr style=\"text-align: right;\">\n",
       "      <th></th>\n",
       "      <th>actual cell type</th>\n",
       "      <th>predicted cell type</th>\n",
       "    </tr>\n",
       "  </thead>\n",
       "  <tbody>\n",
       "    <tr>\n",
       "      <th>0</th>\n",
       "      <td>fibroblast</td>\n",
       "      <td>fibroblast</td>\n",
       "    </tr>\n",
       "    <tr>\n",
       "      <th>1</th>\n",
       "      <td>endothelial cell of lymphatic vessel</td>\n",
       "      <td>vein endothelial cell</td>\n",
       "    </tr>\n",
       "    <tr>\n",
       "      <th>2</th>\n",
       "      <td>epithelial cell</td>\n",
       "      <td>epithelial cell</td>\n",
       "    </tr>\n",
       "    <tr>\n",
       "      <th>3</th>\n",
       "      <td>epithelial cell</td>\n",
       "      <td>epithelial cell</td>\n",
       "    </tr>\n",
       "    <tr>\n",
       "      <th>4</th>\n",
       "      <td>basal cell</td>\n",
       "      <td>basal cell</td>\n",
       "    </tr>\n",
       "    <tr>\n",
       "      <th>...</th>\n",
       "      <td>...</td>\n",
       "      <td>...</td>\n",
       "    </tr>\n",
       "    <tr>\n",
       "      <th>119</th>\n",
       "      <td>basal cell</td>\n",
       "      <td>basal cell</td>\n",
       "    </tr>\n",
       "    <tr>\n",
       "      <th>120</th>\n",
       "      <td>epithelial cell</td>\n",
       "      <td>epithelial cell</td>\n",
       "    </tr>\n",
       "    <tr>\n",
       "      <th>121</th>\n",
       "      <td>keratinocyte</td>\n",
       "      <td>keratinocyte</td>\n",
       "    </tr>\n",
       "    <tr>\n",
       "      <th>122</th>\n",
       "      <td>basal cell</td>\n",
       "      <td>basal cell</td>\n",
       "    </tr>\n",
       "    <tr>\n",
       "      <th>123</th>\n",
       "      <td>basal cell</td>\n",
       "      <td>basal cell</td>\n",
       "    </tr>\n",
       "  </tbody>\n",
       "</table>\n",
       "<p>124 rows × 2 columns</p>\n",
       "</div>"
      ],
      "text/plain": [
       "                         actual cell type    predicted cell type\n",
       "0                              fibroblast             fibroblast\n",
       "1    endothelial cell of lymphatic vessel  vein endothelial cell\n",
       "2                         epithelial cell        epithelial cell\n",
       "3                         epithelial cell        epithelial cell\n",
       "4                              basal cell             basal cell\n",
       "..                                    ...                    ...\n",
       "119                            basal cell             basal cell\n",
       "120                       epithelial cell        epithelial cell\n",
       "121                          keratinocyte           keratinocyte\n",
       "122                            basal cell             basal cell\n",
       "123                            basal cell             basal cell\n",
       "\n",
       "[124 rows x 2 columns]"
      ]
     },
     "metadata": {},
     "output_type": "display_data"
    }
   ],
   "source": [
    "import pandas as pd\n",
    "\n",
    "display(\n",
    "    pd.DataFrame(\n",
    "        {\n",
    "            \"actual cell type\": cell_type_encoder.inverse_transform(y_batch.ravel().numpy()),\n",
    "            \"predicted cell type\": predicted_cell_types,\n",
    "        }\n",
    "    )\n",
    ")"
   ]
  },
  {
   "cell_type": "code",
   "execution_count": 47,
   "metadata": {},
   "outputs": [
    {
     "name": "stdout",
     "output_type": "stream",
     "text": [
      "Accuracy: 0.9435\n"
     ]
    }
   ],
   "source": [
    "# calculate the accuracy\n",
    "correct = (predictions.numpy() == y_batch.ravel().numpy()).sum().item()\n",
    "total = len(predictions)\n",
    "accuracy = correct / total\n",
    "\n",
    "print(f\"Accuracy: {accuracy:.4f}\")"
   ]
  },
  {
   "cell_type": "code",
   "execution_count": 37,
   "metadata": {},
   "outputs": [],
   "source": [
    "census.close()"
   ]
  },
  {
   "cell_type": "code",
   "execution_count": null,
   "metadata": {},
   "outputs": [],
   "source": []
  }
 ],
 "metadata": {
  "kernelspec": {
   "display_name": "ibd",
   "language": "python",
   "name": "python3"
  },
  "language_info": {
   "codemirror_mode": {
    "name": "ipython",
    "version": 3
   },
   "file_extension": ".py",
   "mimetype": "text/x-python",
   "name": "python",
   "nbconvert_exporter": "python",
   "pygments_lexer": "ipython3",
   "version": "3.11.5"
  }
 },
 "nbformat": 4,
 "nbformat_minor": 2
}
