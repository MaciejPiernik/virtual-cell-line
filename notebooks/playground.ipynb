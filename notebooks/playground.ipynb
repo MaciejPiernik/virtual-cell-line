{
 "cells": [
  {
   "cell_type": "code",
   "execution_count": 3,
   "metadata": {},
   "outputs": [
    {
     "name": "stderr",
     "output_type": "stream",
     "text": [
      "2024-06-09 10:10:50.967526: I tensorflow/core/platform/cpu_feature_guard.cc:210] This TensorFlow binary is optimized to use available CPU instructions in performance-critical operations.\n",
      "To enable the following instructions: AVX2 FMA, in other operations, rebuild TensorFlow with the appropriate compiler flags.\n"
     ]
    }
   ],
   "source": [
    "import gzip\n",
    "import datetime\n",
    "import pandas as pd\n",
    "import numpy as np\n",
    "import tensorflow as tf\n",
    "\n",
    "from tensorflow.keras.layers import Input, Dense, Masking\n",
    "from tensorflow.keras.models import Model\n",
    "from tensorflow.keras.callbacks import EarlyStopping, TensorBoard\n",
    "from biomart import BiomartServer"
   ]
  },
  {
   "cell_type": "code",
   "execution_count": 3,
   "metadata": {},
   "outputs": [],
   "source": [
    "with gzip.open('../data/GSE116222_Expression_matrix.txt.gz', 'rt') as f:\n",
    "    expr_matrix = pd.read_csv(f, sep='\\t', index_col=0)"
   ]
  },
  {
   "cell_type": "code",
   "execution_count": 4,
   "metadata": {},
   "outputs": [],
   "source": [
    "expression_data = expr_matrix.T\n",
    "\n",
    "labels = expression_data.index.str.split('-').str[1].to_list()\n",
    "\n",
    "inflammation_labels = ['UC inflamed' if x.endswith('3') else 'UC non-inflamed' if x.endswith('2') else 'Healthy' for x in labels]\n",
    "inflammation_labels = pd.Series(inflammation_labels, index=expression_data.index, name='Inflammation')"
   ]
  },
  {
   "cell_type": "code",
   "execution_count": 5,
   "metadata": {},
   "outputs": [],
   "source": [
    "server = BiomartServer(\"http://www.ensembl.org/biomart\")\n",
    "mart = server.datasets['hsapiens_gene_ensembl']\n",
    "\n",
    "response = mart.search({\n",
    "    'filters': {\n",
    "        'biotype': 'protein_coding'\n",
    "    },\n",
    "    'attributes': [\n",
    "        'external_gene_name'\n",
    "    ]\n",
    "})"
   ]
  },
  {
   "cell_type": "code",
   "execution_count": 6,
   "metadata": {},
   "outputs": [],
   "source": [
    "protein_coding_genes = [line.strip() for line in response.iter_lines(decode_unicode=True)]\n",
    "protein_coding_genes = set(protein_coding_genes)"
   ]
  },
  {
   "cell_type": "code",
   "execution_count": 7,
   "metadata": {},
   "outputs": [],
   "source": [
    "filtered_df = expression_data[[gene for gene in expression_data.columns if gene in protein_coding_genes]]"
   ]
  },
  {
   "cell_type": "code",
   "execution_count": 8,
   "metadata": {},
   "outputs": [],
   "source": [
    "# drop columns with zero variance\n",
    "filtered_df = filtered_df.loc[:, filtered_df.var() > 0]"
   ]
  },
  {
   "cell_type": "code",
   "execution_count": 16,
   "metadata": {},
   "outputs": [
    {
     "data": {
      "text/html": [
       "<div>\n",
       "<style scoped>\n",
       "    .dataframe tbody tr th:only-of-type {\n",
       "        vertical-align: middle;\n",
       "    }\n",
       "\n",
       "    .dataframe tbody tr th {\n",
       "        vertical-align: top;\n",
       "    }\n",
       "\n",
       "    .dataframe thead th {\n",
       "        text-align: right;\n",
       "    }\n",
       "</style>\n",
       "<table border=\"1\" class=\"dataframe\">\n",
       "  <thead>\n",
       "    <tr style=\"text-align: right;\">\n",
       "      <th></th>\n",
       "      <th>SAMD11</th>\n",
       "      <th>NOC2L</th>\n",
       "      <th>KLHL17</th>\n",
       "      <th>PLEKHN1</th>\n",
       "      <th>PERM1</th>\n",
       "      <th>HES4</th>\n",
       "      <th>ISG15</th>\n",
       "      <th>AGRN</th>\n",
       "      <th>RNF223</th>\n",
       "      <th>C1orf159</th>\n",
       "    </tr>\n",
       "  </thead>\n",
       "  <tbody>\n",
       "    <tr>\n",
       "      <th>AAACCTGGTAATCGTC-A1</th>\n",
       "      <td>0.0</td>\n",
       "      <td>0.000000</td>\n",
       "      <td>0.0</td>\n",
       "      <td>0.0</td>\n",
       "      <td>0.0</td>\n",
       "      <td>0.000000</td>\n",
       "      <td>0.515781</td>\n",
       "      <td>0.0</td>\n",
       "      <td>0.0</td>\n",
       "      <td>0.0</td>\n",
       "    </tr>\n",
       "    <tr>\n",
       "      <th>AAACGGGAGCTTTGGT-A1</th>\n",
       "      <td>0.0</td>\n",
       "      <td>0.000000</td>\n",
       "      <td>0.0</td>\n",
       "      <td>0.0</td>\n",
       "      <td>0.0</td>\n",
       "      <td>1.762574</td>\n",
       "      <td>1.227800</td>\n",
       "      <td>0.0</td>\n",
       "      <td>0.0</td>\n",
       "      <td>0.0</td>\n",
       "    </tr>\n",
       "    <tr>\n",
       "      <th>AAACGGGTCTGGTATG-A1</th>\n",
       "      <td>0.0</td>\n",
       "      <td>0.000000</td>\n",
       "      <td>0.0</td>\n",
       "      <td>0.0</td>\n",
       "      <td>0.0</td>\n",
       "      <td>0.000000</td>\n",
       "      <td>1.694233</td>\n",
       "      <td>0.0</td>\n",
       "      <td>0.0</td>\n",
       "      <td>0.0</td>\n",
       "    </tr>\n",
       "    <tr>\n",
       "      <th>AAAGTAGAGAACTGTA-A1</th>\n",
       "      <td>0.0</td>\n",
       "      <td>1.367324</td>\n",
       "      <td>0.0</td>\n",
       "      <td>0.0</td>\n",
       "      <td>0.0</td>\n",
       "      <td>0.000000</td>\n",
       "      <td>0.000000</td>\n",
       "      <td>0.0</td>\n",
       "      <td>0.0</td>\n",
       "      <td>0.0</td>\n",
       "    </tr>\n",
       "    <tr>\n",
       "      <th>AAAGTAGCAGGGAGAG-A1</th>\n",
       "      <td>0.0</td>\n",
       "      <td>0.000000</td>\n",
       "      <td>0.0</td>\n",
       "      <td>0.0</td>\n",
       "      <td>0.0</td>\n",
       "      <td>0.000000</td>\n",
       "      <td>1.574027</td>\n",
       "      <td>0.0</td>\n",
       "      <td>0.0</td>\n",
       "      <td>0.0</td>\n",
       "    </tr>\n",
       "    <tr>\n",
       "      <th>AAAGTAGGTTCGTTGA-A1</th>\n",
       "      <td>0.0</td>\n",
       "      <td>0.000000</td>\n",
       "      <td>0.0</td>\n",
       "      <td>0.0</td>\n",
       "      <td>0.0</td>\n",
       "      <td>0.000000</td>\n",
       "      <td>0.000000</td>\n",
       "      <td>0.0</td>\n",
       "      <td>0.0</td>\n",
       "      <td>0.0</td>\n",
       "    </tr>\n",
       "    <tr>\n",
       "      <th>AAAGTAGTCGGGAGTA-A1</th>\n",
       "      <td>0.0</td>\n",
       "      <td>0.000000</td>\n",
       "      <td>0.0</td>\n",
       "      <td>0.0</td>\n",
       "      <td>0.0</td>\n",
       "      <td>0.000000</td>\n",
       "      <td>0.000000</td>\n",
       "      <td>0.0</td>\n",
       "      <td>0.0</td>\n",
       "      <td>0.0</td>\n",
       "    </tr>\n",
       "    <tr>\n",
       "      <th>AAATGCCCAAGACGTG-A1</th>\n",
       "      <td>0.0</td>\n",
       "      <td>0.000000</td>\n",
       "      <td>0.0</td>\n",
       "      <td>0.0</td>\n",
       "      <td>0.0</td>\n",
       "      <td>0.000000</td>\n",
       "      <td>0.748445</td>\n",
       "      <td>0.0</td>\n",
       "      <td>0.0</td>\n",
       "      <td>0.0</td>\n",
       "    </tr>\n",
       "    <tr>\n",
       "      <th>AAATGCCTCCTTTCTC-A1</th>\n",
       "      <td>0.0</td>\n",
       "      <td>0.856897</td>\n",
       "      <td>0.0</td>\n",
       "      <td>0.0</td>\n",
       "      <td>0.0</td>\n",
       "      <td>0.000000</td>\n",
       "      <td>0.000000</td>\n",
       "      <td>0.0</td>\n",
       "      <td>0.0</td>\n",
       "      <td>0.0</td>\n",
       "    </tr>\n",
       "    <tr>\n",
       "      <th>AACACGTAGAGCAATT-A1</th>\n",
       "      <td>0.0</td>\n",
       "      <td>0.000000</td>\n",
       "      <td>0.0</td>\n",
       "      <td>0.0</td>\n",
       "      <td>0.0</td>\n",
       "      <td>0.000000</td>\n",
       "      <td>0.000000</td>\n",
       "      <td>0.0</td>\n",
       "      <td>0.0</td>\n",
       "      <td>0.0</td>\n",
       "    </tr>\n",
       "  </tbody>\n",
       "</table>\n",
       "</div>"
      ],
      "text/plain": [
       "                     SAMD11     NOC2L  KLHL17  PLEKHN1  PERM1      HES4  \\\n",
       "AAACCTGGTAATCGTC-A1     0.0  0.000000     0.0      0.0    0.0  0.000000   \n",
       "AAACGGGAGCTTTGGT-A1     0.0  0.000000     0.0      0.0    0.0  1.762574   \n",
       "AAACGGGTCTGGTATG-A1     0.0  0.000000     0.0      0.0    0.0  0.000000   \n",
       "AAAGTAGAGAACTGTA-A1     0.0  1.367324     0.0      0.0    0.0  0.000000   \n",
       "AAAGTAGCAGGGAGAG-A1     0.0  0.000000     0.0      0.0    0.0  0.000000   \n",
       "AAAGTAGGTTCGTTGA-A1     0.0  0.000000     0.0      0.0    0.0  0.000000   \n",
       "AAAGTAGTCGGGAGTA-A1     0.0  0.000000     0.0      0.0    0.0  0.000000   \n",
       "AAATGCCCAAGACGTG-A1     0.0  0.000000     0.0      0.0    0.0  0.000000   \n",
       "AAATGCCTCCTTTCTC-A1     0.0  0.856897     0.0      0.0    0.0  0.000000   \n",
       "AACACGTAGAGCAATT-A1     0.0  0.000000     0.0      0.0    0.0  0.000000   \n",
       "\n",
       "                        ISG15  AGRN  RNF223  C1orf159  \n",
       "AAACCTGGTAATCGTC-A1  0.515781   0.0     0.0       0.0  \n",
       "AAACGGGAGCTTTGGT-A1  1.227800   0.0     0.0       0.0  \n",
       "AAACGGGTCTGGTATG-A1  1.694233   0.0     0.0       0.0  \n",
       "AAAGTAGAGAACTGTA-A1  0.000000   0.0     0.0       0.0  \n",
       "AAAGTAGCAGGGAGAG-A1  1.574027   0.0     0.0       0.0  \n",
       "AAAGTAGGTTCGTTGA-A1  0.000000   0.0     0.0       0.0  \n",
       "AAAGTAGTCGGGAGTA-A1  0.000000   0.0     0.0       0.0  \n",
       "AAATGCCCAAGACGTG-A1  0.748445   0.0     0.0       0.0  \n",
       "AAATGCCTCCTTTCTC-A1  0.000000   0.0     0.0       0.0  \n",
       "AACACGTAGAGCAATT-A1  0.000000   0.0     0.0       0.0  "
      ]
     },
     "execution_count": 16,
     "metadata": {},
     "output_type": "execute_result"
    }
   ],
   "source": [
    "dataset = filtered_df.iloc[:10, :10]\n",
    "\n",
    "dataset"
   ]
  },
  {
   "cell_type": "code",
   "execution_count": 4,
   "metadata": {},
   "outputs": [
    {
     "data": {
      "text/html": [
       "<pre style=\"white-space:pre;overflow-x:auto;line-height:normal;font-family:Menlo,'DejaVu Sans Mono',consolas,'Courier New',monospace\"><span style=\"font-weight: bold\">Model: \"functional_1\"</span>\n",
       "</pre>\n"
      ],
      "text/plain": [
       "\u001b[1mModel: \"functional_1\"\u001b[0m\n"
      ]
     },
     "metadata": {},
     "output_type": "display_data"
    },
    {
     "data": {
      "text/html": [
       "<pre style=\"white-space:pre;overflow-x:auto;line-height:normal;font-family:Menlo,'DejaVu Sans Mono',consolas,'Courier New',monospace\">┏━━━━━━━━━━━━━━━━━━━━━━━━━━━━━━━━━┳━━━━━━━━━━━━━━━━━━━━━━━━┳━━━━━━━━━━━━━━━┓\n",
       "┃<span style=\"font-weight: bold\"> Layer (type)                    </span>┃<span style=\"font-weight: bold\"> Output Shape           </span>┃<span style=\"font-weight: bold\">       Param # </span>┃\n",
       "┡━━━━━━━━━━━━━━━━━━━━━━━━━━━━━━━━━╇━━━━━━━━━━━━━━━━━━━━━━━━╇━━━━━━━━━━━━━━━┩\n",
       "│ input_layer (<span style=\"color: #0087ff; text-decoration-color: #0087ff\">InputLayer</span>)        │ (<span style=\"color: #00d7ff; text-decoration-color: #00d7ff\">None</span>, <span style=\"color: #00af00; text-decoration-color: #00af00\">4</span>)              │             <span style=\"color: #00af00; text-decoration-color: #00af00\">0</span> │\n",
       "├─────────────────────────────────┼────────────────────────┼───────────────┤\n",
       "│ masking (<span style=\"color: #0087ff; text-decoration-color: #0087ff\">Masking</span>)               │ (<span style=\"color: #00d7ff; text-decoration-color: #00d7ff\">None</span>, <span style=\"color: #00af00; text-decoration-color: #00af00\">4</span>)              │             <span style=\"color: #00af00; text-decoration-color: #00af00\">0</span> │\n",
       "├─────────────────────────────────┼────────────────────────┼───────────────┤\n",
       "│ dense (<span style=\"color: #0087ff; text-decoration-color: #0087ff\">Dense</span>)                   │ (<span style=\"color: #00d7ff; text-decoration-color: #00d7ff\">None</span>, <span style=\"color: #00af00; text-decoration-color: #00af00\">2</span>)              │            <span style=\"color: #00af00; text-decoration-color: #00af00\">10</span> │\n",
       "├─────────────────────────────────┼────────────────────────┼───────────────┤\n",
       "│ dense_1 (<span style=\"color: #0087ff; text-decoration-color: #0087ff\">Dense</span>)                 │ (<span style=\"color: #00d7ff; text-decoration-color: #00d7ff\">None</span>, <span style=\"color: #00af00; text-decoration-color: #00af00\">4</span>)              │            <span style=\"color: #00af00; text-decoration-color: #00af00\">12</span> │\n",
       "└─────────────────────────────────┴────────────────────────┴───────────────┘\n",
       "</pre>\n"
      ],
      "text/plain": [
       "┏━━━━━━━━━━━━━━━━━━━━━━━━━━━━━━━━━┳━━━━━━━━━━━━━━━━━━━━━━━━┳━━━━━━━━━━━━━━━┓\n",
       "┃\u001b[1m \u001b[0m\u001b[1mLayer (type)                   \u001b[0m\u001b[1m \u001b[0m┃\u001b[1m \u001b[0m\u001b[1mOutput Shape          \u001b[0m\u001b[1m \u001b[0m┃\u001b[1m \u001b[0m\u001b[1m      Param #\u001b[0m\u001b[1m \u001b[0m┃\n",
       "┡━━━━━━━━━━━━━━━━━━━━━━━━━━━━━━━━━╇━━━━━━━━━━━━━━━━━━━━━━━━╇━━━━━━━━━━━━━━━┩\n",
       "│ input_layer (\u001b[38;5;33mInputLayer\u001b[0m)        │ (\u001b[38;5;45mNone\u001b[0m, \u001b[38;5;34m4\u001b[0m)              │             \u001b[38;5;34m0\u001b[0m │\n",
       "├─────────────────────────────────┼────────────────────────┼───────────────┤\n",
       "│ masking (\u001b[38;5;33mMasking\u001b[0m)               │ (\u001b[38;5;45mNone\u001b[0m, \u001b[38;5;34m4\u001b[0m)              │             \u001b[38;5;34m0\u001b[0m │\n",
       "├─────────────────────────────────┼────────────────────────┼───────────────┤\n",
       "│ dense (\u001b[38;5;33mDense\u001b[0m)                   │ (\u001b[38;5;45mNone\u001b[0m, \u001b[38;5;34m2\u001b[0m)              │            \u001b[38;5;34m10\u001b[0m │\n",
       "├─────────────────────────────────┼────────────────────────┼───────────────┤\n",
       "│ dense_1 (\u001b[38;5;33mDense\u001b[0m)                 │ (\u001b[38;5;45mNone\u001b[0m, \u001b[38;5;34m4\u001b[0m)              │            \u001b[38;5;34m12\u001b[0m │\n",
       "└─────────────────────────────────┴────────────────────────┴───────────────┘\n"
      ]
     },
     "metadata": {},
     "output_type": "display_data"
    },
    {
     "data": {
      "text/html": [
       "<pre style=\"white-space:pre;overflow-x:auto;line-height:normal;font-family:Menlo,'DejaVu Sans Mono',consolas,'Courier New',monospace\"><span style=\"font-weight: bold\"> Total params: </span><span style=\"color: #00af00; text-decoration-color: #00af00\">22</span> (88.00 B)\n",
       "</pre>\n"
      ],
      "text/plain": [
       "\u001b[1m Total params: \u001b[0m\u001b[38;5;34m22\u001b[0m (88.00 B)\n"
      ]
     },
     "metadata": {},
     "output_type": "display_data"
    },
    {
     "data": {
      "text/html": [
       "<pre style=\"white-space:pre;overflow-x:auto;line-height:normal;font-family:Menlo,'DejaVu Sans Mono',consolas,'Courier New',monospace\"><span style=\"font-weight: bold\"> Trainable params: </span><span style=\"color: #00af00; text-decoration-color: #00af00\">22</span> (88.00 B)\n",
       "</pre>\n"
      ],
      "text/plain": [
       "\u001b[1m Trainable params: \u001b[0m\u001b[38;5;34m22\u001b[0m (88.00 B)\n"
      ]
     },
     "metadata": {},
     "output_type": "display_data"
    },
    {
     "data": {
      "text/html": [
       "<pre style=\"white-space:pre;overflow-x:auto;line-height:normal;font-family:Menlo,'DejaVu Sans Mono',consolas,'Courier New',monospace\"><span style=\"font-weight: bold\"> Non-trainable params: </span><span style=\"color: #00af00; text-decoration-color: #00af00\">0</span> (0.00 B)\n",
       "</pre>\n"
      ],
      "text/plain": [
       "\u001b[1m Non-trainable params: \u001b[0m\u001b[38;5;34m0\u001b[0m (0.00 B)\n"
      ]
     },
     "metadata": {},
     "output_type": "display_data"
    },
    {
     "name": "stdout",
     "output_type": "stream",
     "text": [
      "Shape of train_data: (6, 4)\n",
      "Shape of test_data: (2, 4)\n",
      "Epoch 1/5\n"
     ]
    }
   ],
   "source": [
    "dataset = pd.DataFrame(np.random.rand(8, 4))  # 8 samples, 10 genes\n",
    "\n",
    "# Define the autoencoder architecture\n",
    "input_dim = dataset.shape[1]  # Number of genes\n",
    "encoding_dim = 2  # Dimension of the encoded representation\n",
    "epochs = 5  # Maximum number of epochs\n",
    "batch_size = 2 # Batch size for training\n",
    "mask_value = -np.inf  # Value to use for masking\n",
    "\n",
    "input_layer = Input(shape=(input_dim,))\n",
    "masked_input = Masking(mask_value=mask_value)(input_layer)\n",
    "encoded = Dense(encoding_dim, activation='relu')(masked_input)\n",
    "decoded = Dense(input_dim, activation='sigmoid')(encoded)\n",
    "\n",
    "autoencoder = Model(input_layer, decoded)\n",
    "\n",
    "# Print model summary\n",
    "autoencoder.summary()\n",
    "\n",
    "def custom_loss(y_true, y_pred):\n",
    "    mask = tf.not_equal(y_true, mask_value)\n",
    "    mask = tf.cast(mask, dtype=tf.float32)\n",
    "    loss = tf.reduce_sum(mask * tf.square(y_true - y_pred), axis=-1) / tf.reduce_sum(mask, axis=-1)\n",
    "    return loss\n",
    "\n",
    "# Compile the model with the custom loss function\n",
    "autoencoder.compile(optimizer='adam', loss=custom_loss)\n",
    "\n",
    "# Function to create masked input\n",
    "def create_masked_input(data, mask_index, mask_value):\n",
    "    masked_data = np.copy(data)\n",
    "    masked_data[:, mask_index] = mask_value\n",
    "    return masked_data\n",
    "\n",
    "# Prepare training data\n",
    "train_data = dataset.sample(frac=0.8, random_state=42)\n",
    "test_data = dataset.drop(train_data.index).values\n",
    "train_data = train_data.values\n",
    "\n",
    "# Print input shapes\n",
    "print(\"Shape of train_data:\", train_data.shape)\n",
    "print(\"Shape of test_data:\", test_data.shape)\n",
    "\n",
    "early_stopping = EarlyStopping(monitor='val_loss', patience=5, restore_best_weights=True)\n",
    "\n",
    "# Train the model with masking\n",
    "for epoch in range(epochs):\n",
    "    print(f\"Epoch {epoch + 1}/{epochs}\")\n",
    "    for i in range(input_dim):\n",
    "        masked_input = create_masked_input(train_data, i, mask_value)\n",
    "        autoencoder.fit(masked_input, train_data, \n",
    "                        epochs=1,\n",
    "                        batch_size=batch_size, \n",
    "                        validation_data=(create_masked_input(test_data, i, mask_value), test_data), \n",
    "                        callbacks=[early_stopping],\n",
    "                        verbose=1)\n",
    "\n",
    "# Predicting the expression of a specific gene\n",
    "def predict_gene_expression(data, gene_index, mask_value):\n",
    "    masked_input = create_masked_input(data, gene_index, mask_value)\n",
    "    predictions = autoencoder.predict(masked_input)\n",
    "    return predictions[:, gene_index]\n",
    "\n",
    "# Example usage\n",
    "gene_index = 0  # Index of the gene to predict\n",
    "test_sample = test_data[0].reshape(1, -1)  # Reshape to match input shape\n",
    "predicted_expression = predict_gene_expression(test_sample, gene_index, mask_value)\n",
    "print(predicted_expression)"
   ]
  },
  {
   "cell_type": "code",
   "execution_count": null,
   "metadata": {},
   "outputs": [],
   "source": []
  }
 ],
 "metadata": {
  "kernelspec": {
   "display_name": "ibd",
   "language": "python",
   "name": "python3"
  },
  "language_info": {
   "codemirror_mode": {
    "name": "ipython",
    "version": 3
   },
   "file_extension": ".py",
   "mimetype": "text/x-python",
   "name": "python",
   "nbconvert_exporter": "python",
   "pygments_lexer": "ipython3",
   "version": "3.11.5"
  }
 },
 "nbformat": 4,
 "nbformat_minor": 2
}
